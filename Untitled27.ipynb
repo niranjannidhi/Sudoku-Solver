{
 "cells": [
  {
   "cell_type": "code",
   "execution_count": 220,
   "metadata": {},
   "outputs": [],
   "source": [
    "from sudoku import Sudoku"
   ]
  },
  {
   "cell_type": "code",
   "execution_count": 301,
   "metadata": {},
   "outputs": [],
   "source": [
    "puzzle = Sudoku(3).difficulty(0.2)\n",
    "board = puzzle.board"
   ]
  },
  {
   "cell_type": "code",
   "execution_count": 302,
   "metadata": {},
   "outputs": [
    {
     "data": {
      "text/plain": [
       "[[1, 5, 7, 8, 6, None, 2, 3, 4],\n",
       " [2, 3, 9, 5, 4, 7, None, None, 6],\n",
       " [4, 6, 8, 1, 2, 3, 5, 7, None],\n",
       " [5, None, 1, 7, None, 4, None, 6, 3],\n",
       " [6, 8, None, None, 3, 5, 7, 9, None],\n",
       " [9, None, 3, 6, None, 8, 4, None, None],\n",
       " [7, None, 5, 3, 8, 6, 9, 4, 2],\n",
       " [3, 9, 2, 4, 7, 1, 6, 5, 8],\n",
       " [8, 4, None, 9, 5, 2, 3, 1, 7]]"
      ]
     },
     "execution_count": 302,
     "metadata": {},
     "output_type": "execute_result"
    }
   ],
   "source": [
    "board"
   ]
  },
  {
   "cell_type": "code",
   "execution_count": 303,
   "metadata": {
    "scrolled": false
   },
   "outputs": [
    {
     "name": "stdout",
     "output_type": "stream",
     "text": [
      "+-------+-------+-------+\n",
      "| 1 5 7 | 8 6   | 2 3 4 |\n",
      "| 2 3 9 | 5 4 7 |     6 |\n",
      "| 4 6 8 | 1 2 3 | 5 7   |\n",
      "+-------+-------+-------+\n",
      "| 5   1 | 7   4 |   6 3 |\n",
      "| 6 8   |   3 5 | 7 9   |\n",
      "| 9   3 | 6   8 | 4     |\n",
      "+-------+-------+-------+\n",
      "| 7   5 | 3 8 6 | 9 4 2 |\n",
      "| 3 9 2 | 4 7 1 | 6 5 8 |\n",
      "| 8 4   | 9 5 2 | 3 1 7 |\n",
      "+-------+-------+-------+\n",
      "\n"
     ]
    }
   ],
   "source": [
    "puzzle.show()"
   ]
  },
  {
   "cell_type": "code",
   "execution_count": 304,
   "metadata": {},
   "outputs": [],
   "source": [
    "def findnone(x):\n",
    "    for i,j in enumerate(x):\n",
    "        try:\n",
    "            return (i,j.index(None))\n",
    "            break\n",
    "        except:\n",
    "            continue\n",
    "    raise ValueError(\"Couldnt find NONE in board\")\n",
    "\n",
    "def getBlocks(x):\n",
    "    answer = []\n",
    "    for r in range(3):\n",
    "        for c in range(3):\n",
    "            block = []\n",
    "            for i in range(3):\n",
    "                for j in range(3):\n",
    "                    block.append(x[3*r + i][3*c + j])\n",
    "            answer.append(block)\n",
    "    return answer\n",
    "\n",
    "def checkrepeat(y):\n",
    "    temp = set()\n",
    "    for i in y:\n",
    "        if i == None:\n",
    "            continue\n",
    "        if i in temp:\n",
    "            return True\n",
    "        else :\n",
    "            temp.add(i)\n",
    "    return False\n",
    "            \n",
    "def sudokuchecker(x):\n",
    "    #columns\n",
    "    cols = [[i[j] for i in x] for j in range(len(x[0]))]\n",
    "    #rows\n",
    "    rows = x\n",
    "    #blocks\n",
    "    blocks = getBlocks(x)\n",
    "    \n",
    "    \n",
    "    out = False\n",
    "    for i in (cols+rows+blocks):\n",
    "        out = out or checkrepeat(i)\n",
    "    return not out\n"
   ]
  },
  {
   "cell_type": "code",
   "execution_count": 305,
   "metadata": {
    "scrolled": true
   },
   "outputs": [],
   "source": [
    "def bruteforcesolver(b):\n",
    "    try:\n",
    "        indices = findnone(b)\n",
    "    #set this to only the specific value error\n",
    "    except:            \n",
    "        print(\"solution found\")\n",
    "        print(b)\n",
    "    \n",
    "    #run all numbers from 1 to 9 and if it all fails, return a false\n",
    "    for i in range(1,10):\n",
    "        b[indices[0]][indices[1]]=i\n",
    "        if(sudokuchecker(b)):\n",
    "            try:\n",
    "                bruteforcesolver(b)\n",
    "            except:continue\n",
    "    raise ValueError(\"ran out of numbers trying to solve\",indices)"
   ]
  },
  {
   "cell_type": "code",
   "execution_count": 306,
   "metadata": {},
   "outputs": [
    {
     "name": "stdout",
     "output_type": "stream",
     "text": [
      "solution found\n",
      "[[1, 5, 7, 8, 6, 9, 2, 3, 4], [2, 3, 9, 5, 4, 7, 1, 8, 6], [4, 6, 8, 1, 2, 3, 5, 7, 9], [5, 2, 1, 7, 9, 4, 8, 6, 3], [6, 8, 4, 2, 3, 5, 7, 9, 1], [9, 7, 3, 6, 1, 8, 4, 2, 5], [7, 1, 5, 3, 8, 6, 9, 4, 2], [3, 9, 2, 4, 7, 1, 6, 5, 8], [8, 4, 6, 9, 5, 2, 3, 1, 7]]\n"
     ]
    },
    {
     "ename": "ValueError",
     "evalue": "('ran out of numbers trying to solve', (0, 5))",
     "output_type": "error",
     "traceback": [
      "\u001b[1;31m---------------------------------------------------------------------------\u001b[0m",
      "\u001b[1;31mValueError\u001b[0m                                Traceback (most recent call last)",
      "\u001b[1;32m<ipython-input-306-6661989c7a26>\u001b[0m in \u001b[0;36m<module>\u001b[1;34m\u001b[0m\n\u001b[1;32m----> 1\u001b[1;33m \u001b[0mbruteforcesolver\u001b[0m\u001b[1;33m(\u001b[0m\u001b[0mboard\u001b[0m\u001b[1;33m)\u001b[0m\u001b[1;33m\u001b[0m\u001b[1;33m\u001b[0m\u001b[0m\n\u001b[0m",
      "\u001b[1;32m<ipython-input-305-39c57c1f6cdf>\u001b[0m in \u001b[0;36mbruteforcesolver\u001b[1;34m(b)\u001b[0m\n\u001b[0;32m     14\u001b[0m                 \u001b[0mbruteforcesolver\u001b[0m\u001b[1;33m(\u001b[0m\u001b[0mb\u001b[0m\u001b[1;33m)\u001b[0m\u001b[1;33m\u001b[0m\u001b[1;33m\u001b[0m\u001b[0m\n\u001b[0;32m     15\u001b[0m             \u001b[1;32mexcept\u001b[0m\u001b[1;33m:\u001b[0m\u001b[1;32mcontinue\u001b[0m\u001b[1;33m\u001b[0m\u001b[1;33m\u001b[0m\u001b[0m\n\u001b[1;32m---> 16\u001b[1;33m     \u001b[1;32mraise\u001b[0m \u001b[0mValueError\u001b[0m\u001b[1;33m(\u001b[0m\u001b[1;34m\"ran out of numbers trying to solve\"\u001b[0m\u001b[1;33m,\u001b[0m\u001b[0mindices\u001b[0m\u001b[1;33m)\u001b[0m\u001b[1;33m\u001b[0m\u001b[1;33m\u001b[0m\u001b[0m\n\u001b[0m",
      "\u001b[1;31mValueError\u001b[0m: ('ran out of numbers trying to solve', (0, 5))"
     ]
    }
   ],
   "source": [
    "bruteforcesolver(board)"
   ]
  },
  {
   "cell_type": "markdown",
   "metadata": {},
   "source": [
    "1) accept board as input\n",
    "2) find next empty spot\n",
    "\tif no empty spots, then output solution\n",
    "3) find next valid number for that spot\n",
    "\t\tput in number\n",
    "\t\tcheck puzzle for rule violation\n",
    "\t\t\tif no violation, then recursively run this with the \"new\" sudoku and see if that returns a violation\n",
    "\t\t\tif violation, then \n",
    "\t\t\t\tput in number + 1\n",
    "\t\t\t\tif no numbers left, return a violation"
   ]
  },
  {
   "cell_type": "code",
   "execution_count": 307,
   "metadata": {},
   "outputs": [
    {
     "data": {
      "text/plain": [
       "True"
      ]
     },
     "execution_count": 307,
     "metadata": {},
     "output_type": "execute_result"
    }
   ],
   "source": [
    "sudokuchecker([[1, 5, 7, 8, 6, 9, 2, 3, 4], [2, 3, 9, 5, 4, 7, 1, 8, 6], [4, 6, 8, 1, 2, 3, 5, 7, 9], [5, 2, 1, 7, 9, 4, 8, 6, 3], [6, 8, 4, 2, 3, 5, 7, 9, 1], [9, 7, 3, 6, 1, 8, 4, 2, 5], [7, 1, 5, 3, 8, 6, 9, 4, 2], [3, 9, 2, 4, 7, 1, 6, 5, 8], [8, 4, 6, 9, 5, 2, 3, 1, 7]])"
   ]
  },
  {
   "cell_type": "code",
   "execution_count": null,
   "metadata": {},
   "outputs": [],
   "source": []
  }
 ],
 "metadata": {
  "kernelspec": {
   "display_name": "Python 3",
   "language": "python",
   "name": "python3"
  },
  "language_info": {
   "codemirror_mode": {
    "name": "ipython",
    "version": 3
   },
   "file_extension": ".py",
   "mimetype": "text/x-python",
   "name": "python",
   "nbconvert_exporter": "python",
   "pygments_lexer": "ipython3",
   "version": "3.8.1"
  }
 },
 "nbformat": 4,
 "nbformat_minor": 4
}
